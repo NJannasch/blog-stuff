{
 "cells": [
  {
   "cell_type": "code",
   "execution_count": null,
   "metadata": {
    "collapsed": true
   },
   "outputs": [],
   "source": [
    "import tensorflow as tf\n",
    "import numpy as np\n",
    "import math, random\n",
    "import matplotlib.pyplot as plt\n",
    "\n",
    "%matplotlib inline"
   ]
  },
  {
   "cell_type": "code",
   "execution_count": null,
   "metadata": {
    "collapsed": false
   },
   "outputs": [],
   "source": [
    "np.random.seed(1000) # for repro\n",
    "function_to_learn = lambda x: np.sin(x) + 0.1*np.random.randn(*x.shape)\n",
    "NUM_HIDDEN_NODES = 20\n",
    "NUM_EXAMPLES = 1000\n",
    "TRAIN_SPLIT = .8\n",
    "MINI_BATCH_SIZE = 100\n",
    "NUM_EPOCHS = 1000"
   ]
  },
  {
   "cell_type": "code",
   "execution_count": null,
   "metadata": {
    "collapsed": false
   },
   "outputs": [],
   "source": [
    "all_x = np.float32(\n",
    "    np.random.uniform(-2*math.pi, 2*math.pi, (1, NUM_EXAMPLES))).T\n",
    "np.random.shuffle(all_x)\n",
    "train_size = int(NUM_EXAMPLES*TRAIN_SPLIT)\n",
    "trainx = all_x[:train_size]\n",
    "validx = all_x[train_size:]\n",
    "trainy = function_to_learn(trainx)\n",
    "validy = function_to_learn(validx)"
   ]
  },
  {
   "cell_type": "code",
   "execution_count": null,
   "metadata": {
    "collapsed": false
   },
   "outputs": [],
   "source": [
    "plt.figure(1)\n",
    "plt.scatter(trainx, trainy, c='green', label='train')\n",
    "plt.scatter(validx, validy, c='red', label='validation')\n",
    "plt.legend()"
   ]
  },
  {
   "cell_type": "code",
   "execution_count": null,
   "metadata": {
    "collapsed": true
   },
   "outputs": [],
   "source": [
    "X = tf.placeholder(tf.float32, [None, 1], name=\"X\")\n",
    "Y = tf.placeholder(tf.float32, [None, 1], name=\"Y\")"
   ]
  },
  {
   "cell_type": "code",
   "execution_count": null,
   "metadata": {
    "collapsed": true
   },
   "outputs": [],
   "source": [
    "def init_weights(shape, init_method='xavier', xavier_params = (None, None)):\n",
    "    if init_method == 'zeros':\n",
    "        return tf.Variable(tf.zeros(shape, dtype=tf.float32))\n",
    "    elif init_method == 'uniform':\n",
    "        return tf.Variable(tf.random_normal(shape, stddev=0.01, dtype=tf.float32))\n",
    "    else: #xavier\n",
    "        (fan_in, fan_out) = xavier_params\n",
    "        low = -4*np.sqrt(6.0/(fan_in + fan_out)) # {sigmoid:4, tanh:1} \n",
    "        high = 4*np.sqrt(6.0/(fan_in + fan_out))\n",
    "        return tf.Variable(tf.random_uniform(shape, minval=low, maxval=high, dtype=tf.float32))"
   ]
  },
  {
   "cell_type": "code",
   "execution_count": null,
   "metadata": {
    "collapsed": true
   },
   "outputs": [],
   "source": [
    "def model(X, num_hidden=10):    \n",
    "    w_h = init_weights([1, num_hidden], 'xavier', xavier_params=(1, num_hidden))\n",
    "    b_h = init_weights([1, num_hidden], 'zeros')\n",
    "    h = tf.nn.sigmoid(tf.matmul(X, w_h) + b_h)\n",
    "    \n",
    "    w_o = init_weights([num_hidden, 1], 'xavier', xavier_params=(num_hidden, 1))\n",
    "    b_o = init_weights([1, 1], 'zeros')\n",
    "    return tf.nn.sigmoid(tf.matmul(h, w_o) + b_o)"
   ]
  },
  {
   "cell_type": "code",
   "execution_count": null,
   "metadata": {
    "collapsed": false
   },
   "outputs": [],
   "source": [
    "yhat = model(X, NUM_HIDDEN_NODES)"
   ]
  },
  {
   "cell_type": "code",
   "execution_count": null,
   "metadata": {
    "collapsed": true
   },
   "outputs": [],
   "source": [
    "train_op = tf.train.AdamOptimizer().minimize(tf.nn.l2_loss(yhat - Y))"
   ]
  },
  {
   "cell_type": "code",
   "execution_count": null,
   "metadata": {
    "collapsed": true
   },
   "outputs": [],
   "source": [
    "sess = tf.Session()\n",
    "sess.run(tf.initialize_all_variables())"
   ]
  },
  {
   "cell_type": "code",
   "execution_count": null,
   "metadata": {
    "collapsed": false
   },
   "outputs": [],
   "source": [
    "errors = []\n",
    "for i in range(NUM_EPOCHS):\n",
    "    for start, end in zip(range(0, len(trainx), MINI_BATCH_SIZE), range(MINI_BATCH_SIZE, len(trainx), MINI_BATCH_SIZE)):\n",
    "        sess.run(train_op, feed_dict={X: trainx[start:end], Y: trainy[start:end]})\n",
    "    mse = sess.run(tf.nn.l2_loss(yhat - validy),  feed_dict={X:validx})\n",
    "    errors.append(mse)\n",
    "    if i%100 == 0: print \"epoch %d, validation MSE %g\" % (i, mse)\n",
    "plt.plot(errors)\n",
    "plt.xlabel('#epochs')\n",
    "plt.ylabel('MSE')"
   ]
  },
  {
   "cell_type": "code",
   "execution_count": null,
   "metadata": {
    "collapsed": true
   },
   "outputs": [],
   "source": []
  }
 ],
 "metadata": {
  "kernelspec": {
   "display_name": "Python 2",
   "language": "python",
   "name": "python2"
  },
  "language_info": {
   "codemirror_mode": {
    "name": "ipython",
    "version": 2
   },
   "file_extension": ".py",
   "mimetype": "text/x-python",
   "name": "python",
   "nbconvert_exporter": "python",
   "pygments_lexer": "ipython2",
   "version": "2.7.10"
  }
 },
 "nbformat": 4,
 "nbformat_minor": 0
}
